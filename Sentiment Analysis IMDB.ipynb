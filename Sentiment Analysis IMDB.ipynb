{
 "cells": [
  {
   "cell_type": "code",
   "execution_count": 17,
   "metadata": {},
   "outputs": [],
   "source": [
    "from sklearn.datasets import load_svmlight_files\n",
    "import numpy as np\n",
    "import pandas as pd\n",
    "import matplotlib.pyplot as plt\n",
    "from sklearn.svm import LinearSVC, SVC\n",
    "from sklearn.linear_model import LogisticRegression\n",
    "from sklearn.feature_extraction.text import TfidfTransformer"
   ]
  },
  {
   "cell_type": "code",
   "execution_count": 18,
   "metadata": {},
   "outputs": [],
   "source": [
    "from sklearn.datasets import load_svmlight_files\n",
    "files = [\"C:/NLP/data/aclImdb/train/labeledBow.feat\",\"C:/NLP/data/aclImdb/test/labeledBow.feat\"]\n",
    "train_mat,train_rate, test_mat, test_rate=load_svmlight_files(files, n_features=None, dtype=None)"
   ]
  },
  {
   "cell_type": "code",
   "execution_count": 29,
   "metadata": {},
   "outputs": [
    {
     "data": {
      "text/plain": [
       "(25000, 89527)"
      ]
     },
     "execution_count": 29,
     "metadata": {},
     "output_type": "execute_result"
    }
   ],
   "source": [
    "train_mat.shape"
   ]
  },
  {
   "cell_type": "code",
   "execution_count": 51,
   "metadata": {},
   "outputs": [
    {
     "name": "stderr",
     "output_type": "stream",
     "text": [
      "/home/nbuser/anaconda3_420/lib/python3.5/site-packages/sklearn/feature_extraction/text.py:1059: FutureWarning: Conversion of the second argument of issubdtype from `float` to `np.floating` is deprecated. In future, it will be treated as `np.float64 == np.dtype(float).type`.\n",
      "  if hasattr(X, 'dtype') and np.issubdtype(X.dtype, np.float):\n"
     ]
    }
   ],
   "source": [
    "tfidf = TfidfTransformer()\n",
    "train_mat = tfidf.fit_transform(train_mat)\n",
    "test_mat = tfidf.transform(test_mat)"
   ]
  },
  {
   "cell_type": "code",
   "execution_count": 52,
   "metadata": {},
   "outputs": [
    {
     "data": {
      "text/plain": [
       "(25000, 89527)"
      ]
     },
     "execution_count": 52,
     "metadata": {},
     "output_type": "execute_result"
    }
   ],
   "source": [
    "test_mat.shape"
   ]
  },
  {
   "cell_type": "code",
   "execution_count": 56,
   "metadata": {},
   "outputs": [],
   "source": [
    "binarytrain = []\n",
    "binarytest = []\n",
    "for i in range(len(train_rate)):\n",
    "    if train_rate[i] > 6:\n",
    "        binarytrain.append(1) # Positive\n",
    "    else:\n",
    "        binarytrain.append(0) # Negative\n",
    "        \n",
    "for i in range(len(test_rate)):\n",
    "    if test_rate[i] > 6:\n",
    "        binarytest.append(1) # Positive\n",
    "    else:\n",
    "        binarytest.append(0) # Negative\n",
    "\n"
   ]
  },
  {
   "cell_type": "code",
   "execution_count": 57,
   "metadata": {},
   "outputs": [],
   "source": [
    "# logistic regression\n",
    "modellog = LogisticRegression()\n",
    "modellog.fit(train_mat,binarytrain)\n",
    "logreg_accuracy = modellog.score(test_mat, binarytest) * 100"
   ]
  },
  {
   "cell_type": "code",
   "execution_count": 58,
   "metadata": {},
   "outputs": [
    {
     "data": {
      "text/plain": [
       "88.31599999999999"
      ]
     },
     "execution_count": 58,
     "metadata": {},
     "output_type": "execute_result"
    }
   ],
   "source": [
    "logreg_accuracy"
   ]
  },
  {
   "cell_type": "code",
   "execution_count": 24,
   "metadata": {},
   "outputs": [],
   "source": [
    "#Linear SVC\n",
    "modellin = LinearSVC()\n",
    "a = modellin.fit(train_mat,binarytrain)\n",
    "modellin_accuracy = a.score(test_mat, binarytest) * 100"
   ]
  },
  {
   "cell_type": "code",
   "execution_count": 25,
   "metadata": {},
   "outputs": [
    {
     "data": {
      "text/plain": [
       "87.896"
      ]
     },
     "execution_count": 25,
     "metadata": {},
     "output_type": "execute_result"
    }
   ],
   "source": [
    "modellin_accuracy"
   ]
  },
  {
   "cell_type": "code",
   "execution_count": null,
   "metadata": {},
   "outputs": [],
   "source": [
    "#SVM\n",
    "modelsvc = SVC()\n",
    "modelsvc.fit(train_mat,binarytrain)\n",
    "modelsvc_accuracy = modellin.score(test_mat, binarytest) * 100"
   ]
  },
  {
   "cell_type": "code",
   "execution_count": null,
   "metadata": {},
   "outputs": [],
   "source": [
    "modelsvc_accuracy"
   ]
  },
  {
   "cell_type": "code",
   "execution_count": 26,
   "metadata": {},
   "outputs": [
    {
     "data": {
      "text/plain": [
       "LinearSVC(C=1.0, class_weight=None, dual=True, fit_intercept=True,\n",
       "     intercept_scaling=1, loss='squared_hinge', max_iter=1000,\n",
       "     multi_class='ovr', penalty='l2', random_state=None, tol=0.0001,\n",
       "     verbose=0)"
      ]
     },
     "execution_count": 26,
     "metadata": {},
     "output_type": "execute_result"
    }
   ],
   "source": [
    "a"
   ]
  },
  {
   "cell_type": "code",
   "execution_count": 30,
   "metadata": {},
   "outputs": [
    {
     "data": {
      "text/plain": [
       "-9.05705347196208"
      ]
     },
     "execution_count": 30,
     "metadata": {},
     "output_type": "execute_result"
    }
   ],
   "source": [
    "np.amin(modellog.decision_function(train_mat))"
   ]
  },
  {
   "cell_type": "code",
   "execution_count": 84,
   "metadata": {},
   "outputs": [],
   "source": [
    "coef = modellog.coef_\n",
    "coef=coef.T"
   ]
  },
  {
   "cell_type": "code",
   "execution_count": 85,
   "metadata": {},
   "outputs": [],
   "source": [
    "with open('imdb.vocab', 'r') as f:\n",
    "    imdb = f.read()"
   ]
  },
  {
   "cell_type": "code",
   "execution_count": 86,
   "metadata": {},
   "outputs": [],
   "source": [
    "imdb = imdb.split('\\n')\n",
    "imdb = np.array(imdb)\n",
    "imdb= imdb.reshape(-1,1)"
   ]
  },
  {
   "cell_type": "code",
   "execution_count": 90,
   "metadata": {},
   "outputs": [],
   "source": [
    "fin = np.concatenate((imdb,coef),axis = 1)"
   ]
  },
  {
   "cell_type": "code",
   "execution_count": 111,
   "metadata": {},
   "outputs": [
    {
     "data": {
      "text/plain": [
       "array([['the', '0.78199904025571'],\n",
       "       ['and', '3.034967705903332'],\n",
       "       ['a', '0.3989834136616954'],\n",
       "       ...,\n",
       "       ['kinky-sex', '0.011743320402839777'],\n",
       "       ['urrrghhh', '0.009744988128899802'],\n",
       "       ['investigator-like', '-0.020676579646197225']], dtype='<U76')"
      ]
     },
     "execution_count": 111,
     "metadata": {},
     "output_type": "execute_result"
    }
   ],
   "source": [
    "fin"
   ]
  },
  {
   "cell_type": "code",
   "execution_count": 124,
   "metadata": {},
   "outputs": [
    {
     "data": {
      "text/html": [
       "<div>\n",
       "<table border=\"1\" class=\"dataframe\">\n",
       "  <thead>\n",
       "    <tr style=\"text-align: right;\">\n",
       "      <th></th>\n",
       "      <th>imdb</th>\n",
       "      <th>value</th>\n",
       "    </tr>\n",
       "  </thead>\n",
       "  <tbody>\n",
       "    <tr>\n",
       "      <th>0</th>\n",
       "      <td>the</td>\n",
       "      <td>0.781999</td>\n",
       "    </tr>\n",
       "    <tr>\n",
       "      <th>1</th>\n",
       "      <td>and</td>\n",
       "      <td>3.034968</td>\n",
       "    </tr>\n",
       "    <tr>\n",
       "      <th>2</th>\n",
       "      <td>a</td>\n",
       "      <td>0.398983</td>\n",
       "    </tr>\n",
       "    <tr>\n",
       "      <th>3</th>\n",
       "      <td>of</td>\n",
       "      <td>-0.022614</td>\n",
       "    </tr>\n",
       "    <tr>\n",
       "      <th>4</th>\n",
       "      <td>to</td>\n",
       "      <td>-1.364115</td>\n",
       "    </tr>\n",
       "  </tbody>\n",
       "</table>\n",
       "</div>"
      ],
      "text/plain": [
       "  imdb     value\n",
       "0  the  0.781999\n",
       "1  and  3.034968\n",
       "2    a  0.398983\n",
       "3   of -0.022614\n",
       "4   to -1.364115"
      ]
     },
     "execution_count": 124,
     "metadata": {},
     "output_type": "execute_result"
    }
   ],
   "source": [
    "df = pd.DataFrame(fin,columns = ['imdb','value'])\n",
    "df.value = pd.to_numeric(df.value,errors = 'coerse')\n",
    "df.head()"
   ]
  },
  {
   "cell_type": "code",
   "execution_count": 125,
   "metadata": {},
   "outputs": [
    {
     "data": {
      "text/html": [
       "<div>\n",
       "<table border=\"1\" class=\"dataframe\">\n",
       "  <thead>\n",
       "    <tr style=\"text-align: right;\">\n",
       "      <th></th>\n",
       "      <th>imdb</th>\n",
       "      <th>value</th>\n",
       "    </tr>\n",
       "  </thead>\n",
       "  <tbody>\n",
       "    <tr>\n",
       "      <th>83</th>\n",
       "      <td>great</td>\n",
       "      <td>7.600801</td>\n",
       "    </tr>\n",
       "    <tr>\n",
       "      <th>309</th>\n",
       "      <td>excellent</td>\n",
       "      <td>6.234958</td>\n",
       "    </tr>\n",
       "    <tr>\n",
       "      <th>115</th>\n",
       "      <td>best</td>\n",
       "      <td>5.008257</td>\n",
       "    </tr>\n",
       "    <tr>\n",
       "      <th>369</th>\n",
       "      <td>wonderful</td>\n",
       "      <td>4.700893</td>\n",
       "    </tr>\n",
       "    <tr>\n",
       "      <th>392</th>\n",
       "      <td>perfect</td>\n",
       "      <td>4.700020</td>\n",
       "    </tr>\n",
       "    <tr>\n",
       "      <th>459</th>\n",
       "      <td>amazing</td>\n",
       "      <td>4.093678</td>\n",
       "    </tr>\n",
       "    <tr>\n",
       "      <th>71</th>\n",
       "      <td>well</td>\n",
       "      <td>3.832354</td>\n",
       "    </tr>\n",
       "    <tr>\n",
       "      <th>242</th>\n",
       "      <td>fun</td>\n",
       "      <td>3.811943</td>\n",
       "    </tr>\n",
       "    <tr>\n",
       "      <th>493</th>\n",
       "      <td>favorite</td>\n",
       "      <td>3.807788</td>\n",
       "    </tr>\n",
       "    <tr>\n",
       "      <th>114</th>\n",
       "      <td>love</td>\n",
       "      <td>3.708948</td>\n",
       "    </tr>\n",
       "    <tr>\n",
       "      <th>489</th>\n",
       "      <td>today</td>\n",
       "      <td>3.697184</td>\n",
       "    </tr>\n",
       "    <tr>\n",
       "      <th>437</th>\n",
       "      <td>loved</td>\n",
       "      <td>3.676763</td>\n",
       "    </tr>\n",
       "    <tr>\n",
       "      <th>529</th>\n",
       "      <td>highly</td>\n",
       "      <td>3.426635</td>\n",
       "    </tr>\n",
       "    <tr>\n",
       "      <th>488</th>\n",
       "      <td>enjoyed</td>\n",
       "      <td>3.371573</td>\n",
       "    </tr>\n",
       "    <tr>\n",
       "      <th>870</th>\n",
       "      <td>superb</td>\n",
       "      <td>3.288842</td>\n",
       "    </tr>\n",
       "    <tr>\n",
       "      <th>509</th>\n",
       "      <td>brilliant</td>\n",
       "      <td>3.283782</td>\n",
       "    </tr>\n",
       "    <tr>\n",
       "      <th>6</th>\n",
       "      <td>it</td>\n",
       "      <td>3.185485</td>\n",
       "    </tr>\n",
       "    <tr>\n",
       "      <th>20</th>\n",
       "      <td>you</td>\n",
       "      <td>3.116433</td>\n",
       "    </tr>\n",
       "    <tr>\n",
       "      <th>126</th>\n",
       "      <td>still</td>\n",
       "      <td>3.093415</td>\n",
       "    </tr>\n",
       "    <tr>\n",
       "      <th>1</th>\n",
       "      <td>and</td>\n",
       "      <td>3.034968</td>\n",
       "    </tr>\n",
       "    <tr>\n",
       "      <th>387</th>\n",
       "      <td>definitely</td>\n",
       "      <td>2.995024</td>\n",
       "    </tr>\n",
       "    <tr>\n",
       "      <th>297</th>\n",
       "      <td>beautiful</td>\n",
       "      <td>2.961737</td>\n",
       "    </tr>\n",
       "    <tr>\n",
       "      <th>406</th>\n",
       "      <td>liked</td>\n",
       "      <td>2.860212</td>\n",
       "    </tr>\n",
       "    <tr>\n",
       "      <th>219</th>\n",
       "      <td>bit</td>\n",
       "      <td>2.830751</td>\n",
       "    </tr>\n",
       "    <tr>\n",
       "      <th>282</th>\n",
       "      <td>job</td>\n",
       "      <td>2.809596</td>\n",
       "    </tr>\n",
       "    <tr>\n",
       "      <th>712</th>\n",
       "      <td>enjoyable</td>\n",
       "      <td>2.807788</td>\n",
       "    </tr>\n",
       "    <tr>\n",
       "      <th>748</th>\n",
       "      <td>fantastic</td>\n",
       "      <td>2.788284</td>\n",
       "    </tr>\n",
       "    <tr>\n",
       "      <th>79</th>\n",
       "      <td>also</td>\n",
       "      <td>2.749675</td>\n",
       "    </tr>\n",
       "    <tr>\n",
       "      <th>342</th>\n",
       "      <td>enjoy</td>\n",
       "      <td>2.643184</td>\n",
       "    </tr>\n",
       "    <tr>\n",
       "      <th>52</th>\n",
       "      <td>very</td>\n",
       "      <td>2.638139</td>\n",
       "    </tr>\n",
       "    <tr>\n",
       "      <th>...</th>\n",
       "      <td>...</td>\n",
       "      <td>...</td>\n",
       "    </tr>\n",
       "    <tr>\n",
       "      <th>581</th>\n",
       "      <td>save</td>\n",
       "      <td>-3.320291</td>\n",
       "    </tr>\n",
       "    <tr>\n",
       "      <th>407</th>\n",
       "      <td>supposed</td>\n",
       "      <td>-3.360845</td>\n",
       "    </tr>\n",
       "    <tr>\n",
       "      <th>760</th>\n",
       "      <td>avoid</td>\n",
       "      <td>-3.403239</td>\n",
       "    </tr>\n",
       "    <tr>\n",
       "      <th>1338</th>\n",
       "      <td>disappointment</td>\n",
       "      <td>-3.434213</td>\n",
       "    </tr>\n",
       "    <tr>\n",
       "      <th>1278</th>\n",
       "      <td>disappointing</td>\n",
       "      <td>-3.468195</td>\n",
       "    </tr>\n",
       "    <tr>\n",
       "      <th>906</th>\n",
       "      <td>mess</td>\n",
       "      <td>-3.483541</td>\n",
       "    </tr>\n",
       "    <tr>\n",
       "      <th>813</th>\n",
       "      <td>lame</td>\n",
       "      <td>-3.487352</td>\n",
       "    </tr>\n",
       "    <tr>\n",
       "      <th>953</th>\n",
       "      <td>fails</td>\n",
       "      <td>-3.535706</td>\n",
       "    </tr>\n",
       "    <tr>\n",
       "      <th>294</th>\n",
       "      <td>instead</td>\n",
       "      <td>-3.550327</td>\n",
       "    </tr>\n",
       "    <tr>\n",
       "      <th>53</th>\n",
       "      <td>even</td>\n",
       "      <td>-3.563872</td>\n",
       "    </tr>\n",
       "    <tr>\n",
       "      <th>622</th>\n",
       "      <td>ridiculous</td>\n",
       "      <td>-3.648176</td>\n",
       "    </tr>\n",
       "    <tr>\n",
       "      <th>225</th>\n",
       "      <td>minutes</td>\n",
       "      <td>-3.691082</td>\n",
       "    </tr>\n",
       "    <tr>\n",
       "      <th>363</th>\n",
       "      <td>stupid</td>\n",
       "      <td>-3.846600</td>\n",
       "    </tr>\n",
       "    <tr>\n",
       "      <th>598</th>\n",
       "      <td>annoying</td>\n",
       "      <td>-3.855620</td>\n",
       "    </tr>\n",
       "    <tr>\n",
       "      <th>221</th>\n",
       "      <td>script</td>\n",
       "      <td>-3.865652</td>\n",
       "    </tr>\n",
       "    <tr>\n",
       "      <th>454</th>\n",
       "      <td>unfortunately</td>\n",
       "      <td>-3.987260</td>\n",
       "    </tr>\n",
       "    <tr>\n",
       "      <th>856</th>\n",
       "      <td>poorly</td>\n",
       "      <td>-4.135196</td>\n",
       "    </tr>\n",
       "    <tr>\n",
       "      <th>734</th>\n",
       "      <td>dull</td>\n",
       "      <td>-4.209618</td>\n",
       "    </tr>\n",
       "    <tr>\n",
       "      <th>503</th>\n",
       "      <td>horrible</td>\n",
       "      <td>-4.337593</td>\n",
       "    </tr>\n",
       "    <tr>\n",
       "      <th>55</th>\n",
       "      <td>no</td>\n",
       "      <td>-4.454917</td>\n",
       "    </tr>\n",
       "    <tr>\n",
       "      <th>422</th>\n",
       "      <td>worse</td>\n",
       "      <td>-4.617652</td>\n",
       "    </tr>\n",
       "    <tr>\n",
       "      <th>156</th>\n",
       "      <td>nothing</td>\n",
       "      <td>-4.739458</td>\n",
       "    </tr>\n",
       "    <tr>\n",
       "      <th>373</th>\n",
       "      <td>terrible</td>\n",
       "      <td>-4.881053</td>\n",
       "    </tr>\n",
       "    <tr>\n",
       "      <th>46</th>\n",
       "      <td>?</td>\n",
       "      <td>-4.966452</td>\n",
       "    </tr>\n",
       "    <tr>\n",
       "      <th>328</th>\n",
       "      <td>poor</td>\n",
       "      <td>-5.358337</td>\n",
       "    </tr>\n",
       "    <tr>\n",
       "      <th>344</th>\n",
       "      <td>boring</td>\n",
       "      <td>-6.061449</td>\n",
       "    </tr>\n",
       "    <tr>\n",
       "      <th>427</th>\n",
       "      <td>waste</td>\n",
       "      <td>-6.328981</td>\n",
       "    </tr>\n",
       "    <tr>\n",
       "      <th>368</th>\n",
       "      <td>awful</td>\n",
       "      <td>-6.393042</td>\n",
       "    </tr>\n",
       "    <tr>\n",
       "      <th>77</th>\n",
       "      <td>bad</td>\n",
       "      <td>-7.994974</td>\n",
       "    </tr>\n",
       "    <tr>\n",
       "      <th>240</th>\n",
       "      <td>worst</td>\n",
       "      <td>-9.339617</td>\n",
       "    </tr>\n",
       "  </tbody>\n",
       "</table>\n",
       "<p>89527 rows × 2 columns</p>\n",
       "</div>"
      ],
      "text/plain": [
       "                imdb     value\n",
       "83             great  7.600801\n",
       "309        excellent  6.234958\n",
       "115             best  5.008257\n",
       "369        wonderful  4.700893\n",
       "392          perfect  4.700020\n",
       "459          amazing  4.093678\n",
       "71              well  3.832354\n",
       "242              fun  3.811943\n",
       "493         favorite  3.807788\n",
       "114             love  3.708948\n",
       "489            today  3.697184\n",
       "437            loved  3.676763\n",
       "529           highly  3.426635\n",
       "488          enjoyed  3.371573\n",
       "870           superb  3.288842\n",
       "509        brilliant  3.283782\n",
       "6                 it  3.185485\n",
       "20               you  3.116433\n",
       "126            still  3.093415\n",
       "1                and  3.034968\n",
       "387       definitely  2.995024\n",
       "297        beautiful  2.961737\n",
       "406            liked  2.860212\n",
       "219              bit  2.830751\n",
       "282              job  2.809596\n",
       "712        enjoyable  2.807788\n",
       "748        fantastic  2.788284\n",
       "79              also  2.749675\n",
       "342            enjoy  2.643184\n",
       "52              very  2.638139\n",
       "...              ...       ...\n",
       "581             save -3.320291\n",
       "407         supposed -3.360845\n",
       "760            avoid -3.403239\n",
       "1338  disappointment -3.434213\n",
       "1278   disappointing -3.468195\n",
       "906             mess -3.483541\n",
       "813             lame -3.487352\n",
       "953            fails -3.535706\n",
       "294          instead -3.550327\n",
       "53              even -3.563872\n",
       "622       ridiculous -3.648176\n",
       "225          minutes -3.691082\n",
       "363           stupid -3.846600\n",
       "598         annoying -3.855620\n",
       "221           script -3.865652\n",
       "454    unfortunately -3.987260\n",
       "856           poorly -4.135196\n",
       "734             dull -4.209618\n",
       "503         horrible -4.337593\n",
       "55                no -4.454917\n",
       "422            worse -4.617652\n",
       "156          nothing -4.739458\n",
       "373         terrible -4.881053\n",
       "46                 ? -4.966452\n",
       "328             poor -5.358337\n",
       "344           boring -6.061449\n",
       "427            waste -6.328981\n",
       "368            awful -6.393042\n",
       "77               bad -7.994974\n",
       "240            worst -9.339617\n",
       "\n",
       "[89527 rows x 2 columns]"
      ]
     },
     "execution_count": 125,
     "metadata": {},
     "output_type": "execute_result"
    }
   ],
   "source": [
    "df.sort_values(by='value',ascending=False)"
   ]
  },
  {
   "cell_type": "code",
   "execution_count": null,
   "metadata": {},
   "outputs": [],
   "source": []
  }
 ],
 "metadata": {
  "kernelspec": {
   "display_name": "Python 3",
   "language": "python",
   "name": "python3"
  },
  "language_info": {
   "codemirror_mode": {
    "name": "ipython",
    "version": 3
   },
   "file_extension": ".py",
   "mimetype": "text/x-python",
   "name": "python",
   "nbconvert_exporter": "python",
   "pygments_lexer": "ipython3",
   "version": "3.6.4"
  }
 },
 "nbformat": 4,
 "nbformat_minor": 2
}
